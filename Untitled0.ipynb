{
  "nbformat": 4,
  "nbformat_minor": 0,
  "metadata": {
    "colab": {
      "name": "Untitled0.ipynb",
      "provenance": []
    },
    "kernelspec": {
      "name": "python3",
      "display_name": "Python 3"
    }
  },
  "cells": [
    {
      "cell_type": "code",
      "metadata": {
        "colab": {
          "base_uri": "https://localhost:8080/"
        },
        "id": "Fx8dAn9rn-L_",
        "outputId": "78ed96a9-d04f-48ba-900d-40b58925bce3"
      },
      "source": [
        "\r\n",
        "num1= float(input(\"Enter Number 1:\"))\r\n",
        "num2= float(input(\"Enter Number 2:\"))\r\n",
        "print(num1+num2)\r\n",
        "\r\n",
        "\r\n",
        "\r\n",
        "\r\n",
        "\r\n",
        "\r\n",
        "\r\n",
        "\r\n",
        "\r\n",
        "\r\n"
      ],
      "execution_count": null,
      "outputs": [
        {
          "output_type": "stream",
          "text": [
            "Enter Number 1:3.5\n",
            "Enter Number 2:8.2\n",
            "11.7\n"
          ],
          "name": "stdout"
        }
      ]
    },
    {
      "cell_type": "code",
      "metadata": {
        "colab": {
          "base_uri": "https://localhost:8080/"
        },
        "id": "Qu_slK00oZgd",
        "outputId": "dbd9e8ea-7fd1-4cd9-f862-1e2b1867ced9"
      },
      "source": [
        "py=\"python\\n\"\r\n",
        "print(py*100)"
      ],
      "execution_count": null,
      "outputs": [
        {
          "output_type": "stream",
          "text": [
            "python\n",
            "python\n",
            "python\n",
            "python\n",
            "python\n",
            "python\n",
            "python\n",
            "python\n",
            "python\n",
            "python\n",
            "python\n",
            "python\n",
            "python\n",
            "python\n",
            "python\n",
            "python\n",
            "python\n",
            "python\n",
            "python\n",
            "python\n",
            "python\n",
            "python\n",
            "python\n",
            "python\n",
            "python\n",
            "python\n",
            "python\n",
            "python\n",
            "python\n",
            "python\n",
            "python\n",
            "python\n",
            "python\n",
            "python\n",
            "python\n",
            "python\n",
            "python\n",
            "python\n",
            "python\n",
            "python\n",
            "python\n",
            "python\n",
            "python\n",
            "python\n",
            "python\n",
            "python\n",
            "python\n",
            "python\n",
            "python\n",
            "python\n",
            "python\n",
            "python\n",
            "python\n",
            "python\n",
            "python\n",
            "python\n",
            "python\n",
            "python\n",
            "python\n",
            "python\n",
            "python\n",
            "python\n",
            "python\n",
            "python\n",
            "python\n",
            "python\n",
            "python\n",
            "python\n",
            "python\n",
            "python\n",
            "python\n",
            "python\n",
            "python\n",
            "python\n",
            "python\n",
            "python\n",
            "python\n",
            "python\n",
            "python\n",
            "python\n",
            "python\n",
            "python\n",
            "python\n",
            "python\n",
            "python\n",
            "python\n",
            "python\n",
            "python\n",
            "python\n",
            "python\n",
            "python\n",
            "python\n",
            "python\n",
            "python\n",
            "python\n",
            "python\n",
            "python\n",
            "python\n",
            "python\n",
            "python\n",
            "\n"
          ],
          "name": "stdout"
        }
      ]
    },
    {
      "cell_type": "code",
      "metadata": {
        "id": "zEGLKuv7wATY"
      },
      "source": [
        ""
      ],
      "execution_count": null,
      "outputs": []
    },
    {
      "cell_type": "code",
      "metadata": {
        "id": "-TKrcNb9pX65",
        "outputId": "ffc7d6db-b13d-45ac-e0b7-b82c3ad26bd8",
        "colab": {
          "base_uri": "https://localhost:8080/"
        }
      },
      "source": [
        "print(\"Hello\")"
      ],
      "execution_count": 1,
      "outputs": [
        {
          "output_type": "stream",
          "text": [
            "Hello\n"
          ],
          "name": "stdout"
        }
      ]
    }
  ]
}