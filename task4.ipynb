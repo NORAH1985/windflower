{
  "nbformat": 4,
  "nbformat_minor": 0,
  "metadata": {
    "colab": {
      "name": "Untitled0.ipynb",
      "provenance": []
    },
    "kernelspec": {
      "name": "python3",
      "display_name": "Python 3"
    }
  },
  "cells": [
    {
      "cell_type": "code",
      "metadata": {
        "colab": {
          "base_uri": "https://localhost:8080/"
        },
        "id": "Fx8dAn9rn-L_",
        "outputId": "78ed96a9-d04f-48ba-900d-40b58925bce3"
      },
      "source": [
        "\r\n",
        "num1= float(input(\"Enter Number 1:\"))\r\n",
        "num2= float(input(\"Enter Number 2:\"))\r\n",
        "print(num1+num2)\r\n",
        "\r\n",
        "\r\n",
        "\r\n",
        "\r\n",
        "\r\n",
        "\r\n",
        "\r\n",
        "\r\n",
        "\r\n",
        "\r\n"
      ],
      "execution_count": null,
      "outputs": [
        {
          "output_type": "stream",
          "text": [
            "Enter Number 1:3.5\n",
            "Enter Number 2:8.2\n",
            "11.7\n"
          ],
          "name": "stdout"
        }
      ]
    },
    {
      "cell_type": "code",
      "metadata": {
        "colab": {
          "base_uri": "https://localhost:8080/"
        },
        "id": "Qu_slK00oZgd",
        "outputId": "dbd9e8ea-7fd1-4cd9-f862-1e2b1867ced9"
      },
      "source": [
        "py=\"python\\n\"\r\n",
        "print(py*100)"
      ],
      "execution_count": null,
      "outputs": [
        {
          "output_type": "stream",
          "text": [
            "python\n",
            "python\n",
            "python\n",
            "python\n",
            "python\n",
            "python\n",
            "python\n",
            "python\n",
            "python\n",
            "python\n",
            "python\n",
            "python\n",
            "python\n",
            "python\n",
            "python\n",
            "python\n",
            "python\n",
            "python\n",
            "python\n",
            "python\n",
            "python\n",
            "python\n",
            "python\n",
            "python\n",
            "python\n",
            "python\n",
            "python\n",
            "python\n",
            "python\n",
            "python\n",
            "python\n",
            "python\n",
            "python\n",
            "python\n",
            "python\n",
            "python\n",
            "python\n",
            "python\n",
            "python\n",
            "python\n",
            "python\n",
            "python\n",
            "python\n",
            "python\n",
            "python\n",
            "python\n",
            "python\n",
            "python\n",
            "python\n",
            "python\n",
            "python\n",
            "python\n",
            "python\n",
            "python\n",
            "python\n",
            "python\n",
            "python\n",
            "python\n",
            "python\n",
            "python\n",
            "python\n",
            "python\n",
            "python\n",
            "python\n",
            "python\n",
            "python\n",
            "python\n",
            "python\n",
            "python\n",
            "python\n",
            "python\n",
            "python\n",
            "python\n",
            "python\n",
            "python\n",
            "python\n",
            "python\n",
            "python\n",
            "python\n",
            "python\n",
            "python\n",
            "python\n",
            "python\n",
            "python\n",
            "python\n",
            "python\n",
            "python\n",
            "python\n",
            "python\n",
            "python\n",
            "python\n",
            "python\n",
            "python\n",
            "python\n",
            "python\n",
            "python\n",
            "python\n",
            "python\n",
            "python\n",
            "python\n",
            "\n"
          ],
          "name": "stdout"
        }
      ]
    },
    {
      "cell_type": "code",
      "metadata": {
        "id": "CcIDnfqXDmPj"
      },
      "source": [
        ""
      ],
      "execution_count": null,
      "outputs": []
    },
    {
      "cell_type": "code",
      "metadata": {
        "colab": {
          "base_uri": "https://localhost:8080/",
          "height": 539
        },
        "id": "ZViULS4C-0Za",
        "outputId": "15b03613-f4d1-4d9e-fe5d-21137e51f8ed"
      },
      "source": [
        "!pip3 install ColabTurtle\r\n",
        "from ColabTurtle.Turtle import *\r\n",
        "initializeTurtle()\r\n",
        "for x in range(100):\r\n",
        " for i in range(4):\r\n",
        "  forward(100)\r\n",
        "  right(80)\r\n",
        "  right(4)\r\n",
        "   "
      ],
      "execution_count": null,
      "outputs": [
        {
          "output_type": "stream",
          "text": [
            "Requirement already satisfied: ColabTurtle in /usr/local/lib/python3.6/dist-packages (2.0.0)\n"
          ],
          "name": "stdout"
        },
        {
          "output_type": "display_data",
          "data": {
            "text/html": [
              "\n",
              "      <svg width=\"800\" height=\"500\">\n",
              "        <rect width=\"100%\" height=\"100%\" fill=\"black\"/>\n",
              "        <line x1=\"400\" y1=\"250\" x2=\"400.0\" y2=\"150.0\" stroke-linecap=\"round\" style=\"stroke:white;stroke-width:4\"/><line x1=\"400.0\" y1=\"150.0\" x2=\"499.45218953682735\" y2=\"139.54715367323465\" stroke-linecap=\"round\" style=\"stroke:white;stroke-width:4\"/><line x1=\"499.45218953682735\" y1=\"139.54715367323465\" x2=\"520.2433586186033\" y2=\"237.3619137466152\" stroke-linecap=\"round\" style=\"stroke:white;stroke-width:4\"/><line x1=\"520.2433586186033\" y1=\"237.3619137466152\" x2=\"425.137706989088\" y2=\"268.26361318410994\" stroke-linecap=\"round\" style=\"stroke:white;stroke-width:4\"/><line x1=\"425.137706989088\" y1=\"268.26361318410994\" x2=\"384.464042681508\" y2=\"176.90906741984986\" stroke-linecap=\"round\" style=\"stroke:white;stroke-width:4\"/><line x1=\"384.464042681508\" y1=\"176.90906741984986\" x2=\"471.0665830599518\" y2=\"126.90906741984982\" stroke-linecap=\"round\" style=\"stroke:white;stroke-width:4\"/><line x1=\"471.0665830599518\" y1=\"126.90906741984982\" x2=\"529.8451082891992\" y2=\"207.81076685734456\" stroke-linecap=\"round\" style=\"stroke:white;stroke-width:4\"/><line x1=\"529.8451082891992\" y1=\"207.81076685734456\" x2=\"455.53062574145974\" y2=\"274.7238274932304\" stroke-linecap=\"round\" style=\"stroke:white;stroke-width:4\"/><line x1=\"455.53062574145974\" y1=\"274.7238274932304\" x2=\"381.2161431937203\" y2=\"207.81076685734456\" stroke-linecap=\"round\" style=\"stroke:white;stroke-width:4\"/><line x1=\"381.2161431937203\" y1=\"207.81076685734456\" x2=\"439.9946684229676\" y2=\"126.9090674198498\" stroke-linecap=\"round\" style=\"stroke:white;stroke-width:4\"/><line x1=\"439.9946684229676\" y1=\"126.9090674198498\" x2=\"526.5972088014115\" y2=\"176.9090674198498\" stroke-linecap=\"round\" style=\"stroke:white;stroke-width:4\"/><line x1=\"526.5972088014115\" y1=\"176.9090674198498\" x2=\"485.9235444938315\" y2=\"268.2636131841099\" stroke-linecap=\"round\" style=\"stroke:white;stroke-width:4\"/><line x1=\"485.9235444938315\" y1=\"268.2636131841099\" x2=\"390.81789286431615\" y2=\"237.36191374661516\" stroke-linecap=\"round\" style=\"stroke:white;stroke-width:4\"/><line x1=\"390.81789286431615\" y1=\"237.36191374661516\" x2=\"411.6090619460921\" y2=\"139.54715367323462\" stroke-linecap=\"round\" style=\"stroke:white;stroke-width:4\"/><line x1=\"411.6090619460921\" y1=\"139.54715367323462\" x2=\"511.06125148291943\" y2=\"149.99999999999997\" stroke-linecap=\"round\" style=\"stroke:white;stroke-width:4\"/><line x1=\"511.06125148291943\" y1=\"149.99999999999997\" x2=\"511.06125148291943\" y2=\"249.99999999999997\" stroke-linecap=\"round\" style=\"stroke:white;stroke-width:4\"/><line x1=\"511.06125148291943\" y1=\"249.99999999999997\" x2=\"411.6090619460921\" y2=\"260.4528463267653\" stroke-linecap=\"round\" style=\"stroke:white;stroke-width:4\"/><line x1=\"411.6090619460921\" y1=\"260.4528463267653\" x2=\"390.8178928643161\" y2=\"162.63808625338476\" stroke-linecap=\"round\" style=\"stroke:white;stroke-width:4\"/><line x1=\"390.8178928643161\" y1=\"162.63808625338476\" x2=\"485.92354449383146\" y2=\"131.73638681589\" stroke-linecap=\"round\" style=\"stroke:white;stroke-width:4\"/><line x1=\"485.92354449383146\" y1=\"131.73638681589\" x2=\"526.5972088014115\" y2=\"223.09093258015008\" stroke-linecap=\"round\" style=\"stroke:white;stroke-width:4\"/><line x1=\"526.5972088014115\" y1=\"223.09093258015008\" x2=\"439.9946684229676\" y2=\"273.0909325801501\" stroke-linecap=\"round\" style=\"stroke:white;stroke-width:4\"/><line x1=\"439.9946684229676\" y1=\"273.0909325801501\" x2=\"381.2161431937203\" y2=\"192.18923314265535\" stroke-linecap=\"round\" style=\"stroke:white;stroke-width:4\"/><line x1=\"381.2161431937203\" y1=\"192.18923314265535\" x2=\"455.53062574145974\" y2=\"125.27617250676954\" stroke-linecap=\"round\" style=\"stroke:white;stroke-width:4\"/><line x1=\"455.53062574145974\" y1=\"125.27617250676954\" x2=\"529.8451082891992\" y2=\"192.18923314265538\" stroke-linecap=\"round\" style=\"stroke:white;stroke-width:4\"/><line x1=\"529.8451082891992\" y1=\"192.18923314265538\" x2=\"471.0665830599519\" y2=\"273.09093258015014\" stroke-linecap=\"round\" style=\"stroke:white;stroke-width:4\"/><line x1=\"471.0665830599519\" y1=\"273.09093258015014\" x2=\"384.46404268150803\" y2=\"223.09093258015014\" stroke-linecap=\"round\" style=\"stroke:white;stroke-width:4\"/><line x1=\"384.46404268150803\" y1=\"223.09093258015014\" x2=\"425.13770698908803\" y2=\"131.73638681589003\" stroke-linecap=\"round\" style=\"stroke:white;stroke-width:4\"/><line x1=\"425.13770698908803\" y1=\"131.73638681589003\" x2=\"520.2433586186033\" y2=\"162.63808625338476\" stroke-linecap=\"round\" style=\"stroke:white;stroke-width:4\"/><line x1=\"520.2433586186033\" y1=\"162.63808625338476\" x2=\"499.4521895368274\" y2=\"260.4528463267653\" stroke-linecap=\"round\" style=\"stroke:white;stroke-width:4\"/><line x1=\"499.4521895368274\" y1=\"260.4528463267653\" x2=\"400.00000000000006\" y2=\"249.99999999999997\" stroke-linecap=\"round\" style=\"stroke:white;stroke-width:4\"/><line x1=\"400.00000000000006\" y1=\"249.99999999999997\" x2=\"400.00000000000006\" y2=\"149.99999999999997\" stroke-linecap=\"round\" style=\"stroke:white;stroke-width:4\"/><line x1=\"400.00000000000006\" y1=\"149.99999999999997\" x2=\"499.4521895368274\" y2=\"139.54715367323462\" stroke-linecap=\"round\" style=\"stroke:white;stroke-width:4\"/><line x1=\"499.4521895368274\" y1=\"139.54715367323462\" x2=\"520.2433586186033\" y2=\"237.3619137466152\" stroke-linecap=\"round\" style=\"stroke:white;stroke-width:4\"/><line x1=\"520.2433586186033\" y1=\"237.3619137466152\" x2=\"425.137706989088\" y2=\"268.26361318410994\" stroke-linecap=\"round\" style=\"stroke:white;stroke-width:4\"/><line x1=\"425.137706989088\" y1=\"268.26361318410994\" x2=\"384.464042681508\" y2=\"176.90906741984986\" stroke-linecap=\"round\" style=\"stroke:white;stroke-width:4\"/><line x1=\"384.464042681508\" y1=\"176.90906741984986\" x2=\"471.0665830599518\" y2=\"126.90906741984982\" stroke-linecap=\"round\" style=\"stroke:white;stroke-width:4\"/><line x1=\"471.0665830599518\" y1=\"126.90906741984982\" x2=\"529.8451082891992\" y2=\"207.81076685734456\" stroke-linecap=\"round\" style=\"stroke:white;stroke-width:4\"/><line x1=\"529.8451082891992\" y1=\"207.81076685734456\" x2=\"455.53062574145974\" y2=\"274.7238274932304\" stroke-linecap=\"round\" style=\"stroke:white;stroke-width:4\"/><line x1=\"455.53062574145974\" y1=\"274.7238274932304\" x2=\"381.2161431937203\" y2=\"207.81076685734456\" stroke-linecap=\"round\" style=\"stroke:white;stroke-width:4\"/><line x1=\"381.2161431937203\" y1=\"207.81076685734456\" x2=\"439.9946684229676\" y2=\"126.9090674198498\" stroke-linecap=\"round\" style=\"stroke:white;stroke-width:4\"/><line x1=\"439.9946684229676\" y1=\"126.9090674198498\" x2=\"526.5972088014115\" y2=\"176.9090674198498\" stroke-linecap=\"round\" style=\"stroke:white;stroke-width:4\"/><line x1=\"526.5972088014115\" y1=\"176.9090674198498\" x2=\"485.9235444938315\" y2=\"268.2636131841099\" stroke-linecap=\"round\" style=\"stroke:white;stroke-width:4\"/><line x1=\"485.9235444938315\" y1=\"268.2636131841099\" x2=\"390.81789286431615\" y2=\"237.36191374661516\" stroke-linecap=\"round\" style=\"stroke:white;stroke-width:4\"/><line x1=\"390.81789286431615\" y1=\"237.36191374661516\" x2=\"411.6090619460921\" y2=\"139.54715367323462\" stroke-linecap=\"round\" style=\"stroke:white;stroke-width:4\"/><line x1=\"411.6090619460921\" y1=\"139.54715367323462\" x2=\"511.06125148291943\" y2=\"149.99999999999997\" stroke-linecap=\"round\" style=\"stroke:white;stroke-width:4\"/><line x1=\"511.06125148291943\" y1=\"149.99999999999997\" x2=\"511.06125148291943\" y2=\"249.99999999999997\" stroke-linecap=\"round\" style=\"stroke:white;stroke-width:4\"/><line x1=\"511.06125148291943\" y1=\"249.99999999999997\" x2=\"411.6090619460921\" y2=\"260.4528463267653\" stroke-linecap=\"round\" style=\"stroke:white;stroke-width:4\"/><line x1=\"411.6090619460921\" y1=\"260.4528463267653\" x2=\"390.8178928643161\" y2=\"162.63808625338476\" stroke-linecap=\"round\" style=\"stroke:white;stroke-width:4\"/><line x1=\"390.8178928643161\" y1=\"162.63808625338476\" x2=\"485.92354449383146\" y2=\"131.73638681589\" stroke-linecap=\"round\" style=\"stroke:white;stroke-width:4\"/><line x1=\"485.92354449383146\" y1=\"131.73638681589\" x2=\"526.5972088014115\" y2=\"223.09093258015008\" stroke-linecap=\"round\" style=\"stroke:white;stroke-width:4\"/><line x1=\"526.5972088014115\" y1=\"223.09093258015008\" x2=\"439.9946684229676\" y2=\"273.0909325801501\" stroke-linecap=\"round\" style=\"stroke:white;stroke-width:4\"/><line x1=\"439.9946684229676\" y1=\"273.0909325801501\" x2=\"381.2161431937203\" y2=\"192.18923314265535\" stroke-linecap=\"round\" style=\"stroke:white;stroke-width:4\"/><line x1=\"381.2161431937203\" y1=\"192.18923314265535\" x2=\"455.53062574145974\" y2=\"125.27617250676954\" stroke-linecap=\"round\" style=\"stroke:white;stroke-width:4\"/><line x1=\"455.53062574145974\" y1=\"125.27617250676954\" x2=\"529.8451082891992\" y2=\"192.18923314265538\" stroke-linecap=\"round\" style=\"stroke:white;stroke-width:4\"/><line x1=\"529.8451082891992\" y1=\"192.18923314265538\" x2=\"471.0665830599519\" y2=\"273.09093258015014\" stroke-linecap=\"round\" style=\"stroke:white;stroke-width:4\"/><line x1=\"471.0665830599519\" y1=\"273.09093258015014\" x2=\"384.46404268150803\" y2=\"223.09093258015014\" stroke-linecap=\"round\" style=\"stroke:white;stroke-width:4\"/><line x1=\"384.46404268150803\" y1=\"223.09093258015014\" x2=\"425.13770698908803\" y2=\"131.73638681589003\" stroke-linecap=\"round\" style=\"stroke:white;stroke-width:4\"/><line x1=\"425.13770698908803\" y1=\"131.73638681589003\" x2=\"520.2433586186033\" y2=\"162.63808625338476\" stroke-linecap=\"round\" style=\"stroke:white;stroke-width:4\"/><line x1=\"520.2433586186033\" y1=\"162.63808625338476\" x2=\"499.4521895368274\" y2=\"260.4528463267653\" stroke-linecap=\"round\" style=\"stroke:white;stroke-width:4\"/><line x1=\"499.4521895368274\" y1=\"260.4528463267653\" x2=\"400.00000000000006\" y2=\"249.99999999999997\" stroke-linecap=\"round\" style=\"stroke:white;stroke-width:4\"/><line x1=\"400.00000000000006\" y1=\"249.99999999999997\" x2=\"400.00000000000006\" y2=\"149.99999999999997\" stroke-linecap=\"round\" style=\"stroke:white;stroke-width:4\"/><line x1=\"400.00000000000006\" y1=\"149.99999999999997\" x2=\"499.4521895368274\" y2=\"139.54715367323462\" stroke-linecap=\"round\" style=\"stroke:white;stroke-width:4\"/><line x1=\"499.4521895368274\" y1=\"139.54715367323462\" x2=\"520.2433586186033\" y2=\"237.3619137466152\" stroke-linecap=\"round\" style=\"stroke:white;stroke-width:4\"/><line x1=\"520.2433586186033\" y1=\"237.3619137466152\" x2=\"425.137706989088\" y2=\"268.26361318410994\" stroke-linecap=\"round\" style=\"stroke:white;stroke-width:4\"/><line x1=\"425.137706989088\" y1=\"268.26361318410994\" x2=\"384.464042681508\" y2=\"176.90906741984986\" stroke-linecap=\"round\" style=\"stroke:white;stroke-width:4\"/><line x1=\"384.464042681508\" y1=\"176.90906741984986\" x2=\"471.0665830599518\" y2=\"126.90906741984982\" stroke-linecap=\"round\" style=\"stroke:white;stroke-width:4\"/><line x1=\"471.0665830599518\" y1=\"126.90906741984982\" x2=\"529.8451082891992\" y2=\"207.81076685734456\" stroke-linecap=\"round\" style=\"stroke:white;stroke-width:4\"/><line x1=\"529.8451082891992\" y1=\"207.81076685734456\" x2=\"455.53062574145974\" y2=\"274.7238274932304\" stroke-linecap=\"round\" style=\"stroke:white;stroke-width:4\"/><line x1=\"455.53062574145974\" y1=\"274.7238274932304\" x2=\"381.2161431937203\" y2=\"207.81076685734456\" stroke-linecap=\"round\" style=\"stroke:white;stroke-width:4\"/><line x1=\"381.2161431937203\" y1=\"207.81076685734456\" x2=\"439.9946684229676\" y2=\"126.9090674198498\" stroke-linecap=\"round\" style=\"stroke:white;stroke-width:4\"/><line x1=\"439.9946684229676\" y1=\"126.9090674198498\" x2=\"526.5972088014115\" y2=\"176.9090674198498\" stroke-linecap=\"round\" style=\"stroke:white;stroke-width:4\"/><line x1=\"526.5972088014115\" y1=\"176.9090674198498\" x2=\"485.9235444938315\" y2=\"268.2636131841099\" stroke-linecap=\"round\" style=\"stroke:white;stroke-width:4\"/><line x1=\"485.9235444938315\" y1=\"268.2636131841099\" x2=\"390.81789286431615\" y2=\"237.36191374661516\" stroke-linecap=\"round\" style=\"stroke:white;stroke-width:4\"/><line x1=\"390.81789286431615\" y1=\"237.36191374661516\" x2=\"411.6090619460921\" y2=\"139.54715367323462\" stroke-linecap=\"round\" style=\"stroke:white;stroke-width:4\"/><line x1=\"411.6090619460921\" y1=\"139.54715367323462\" x2=\"511.06125148291943\" y2=\"149.99999999999997\" stroke-linecap=\"round\" style=\"stroke:white;stroke-width:4\"/><line x1=\"511.06125148291943\" y1=\"149.99999999999997\" x2=\"511.06125148291943\" y2=\"249.99999999999997\" stroke-linecap=\"round\" style=\"stroke:white;stroke-width:4\"/><line x1=\"511.06125148291943\" y1=\"249.99999999999997\" x2=\"411.6090619460921\" y2=\"260.4528463267653\" stroke-linecap=\"round\" style=\"stroke:white;stroke-width:4\"/><line x1=\"411.6090619460921\" y1=\"260.4528463267653\" x2=\"390.8178928643161\" y2=\"162.63808625338476\" stroke-linecap=\"round\" style=\"stroke:white;stroke-width:4\"/><line x1=\"390.8178928643161\" y1=\"162.63808625338476\" x2=\"485.92354449383146\" y2=\"131.73638681589\" stroke-linecap=\"round\" style=\"stroke:white;stroke-width:4\"/><line x1=\"485.92354449383146\" y1=\"131.73638681589\" x2=\"526.5972088014115\" y2=\"223.09093258015008\" stroke-linecap=\"round\" style=\"stroke:white;stroke-width:4\"/><line x1=\"526.5972088014115\" y1=\"223.09093258015008\" x2=\"439.9946684229676\" y2=\"273.0909325801501\" stroke-linecap=\"round\" style=\"stroke:white;stroke-width:4\"/><line x1=\"439.9946684229676\" y1=\"273.0909325801501\" x2=\"381.2161431937203\" y2=\"192.18923314265535\" stroke-linecap=\"round\" style=\"stroke:white;stroke-width:4\"/><line x1=\"381.2161431937203\" y1=\"192.18923314265535\" x2=\"455.53062574145974\" y2=\"125.27617250676954\" stroke-linecap=\"round\" style=\"stroke:white;stroke-width:4\"/><line x1=\"455.53062574145974\" y1=\"125.27617250676954\" x2=\"529.8451082891992\" y2=\"192.18923314265538\" stroke-linecap=\"round\" style=\"stroke:white;stroke-width:4\"/><line x1=\"529.8451082891992\" y1=\"192.18923314265538\" x2=\"471.0665830599519\" y2=\"273.09093258015014\" stroke-linecap=\"round\" style=\"stroke:white;stroke-width:4\"/><line x1=\"471.0665830599519\" y1=\"273.09093258015014\" x2=\"384.46404268150803\" y2=\"223.09093258015014\" stroke-linecap=\"round\" style=\"stroke:white;stroke-width:4\"/><line x1=\"384.46404268150803\" y1=\"223.09093258015014\" x2=\"425.13770698908803\" y2=\"131.73638681589003\" stroke-linecap=\"round\" style=\"stroke:white;stroke-width:4\"/><line x1=\"425.13770698908803\" y1=\"131.73638681589003\" x2=\"520.2433586186033\" y2=\"162.63808625338476\" stroke-linecap=\"round\" style=\"stroke:white;stroke-width:4\"/><line x1=\"520.2433586186033\" y1=\"162.63808625338476\" x2=\"499.4521895368274\" y2=\"260.4528463267653\" stroke-linecap=\"round\" style=\"stroke:white;stroke-width:4\"/><line x1=\"499.4521895368274\" y1=\"260.4528463267653\" x2=\"400.00000000000006\" y2=\"249.99999999999997\" stroke-linecap=\"round\" style=\"stroke:white;stroke-width:4\"/><line x1=\"400.00000000000006\" y1=\"249.99999999999997\" x2=\"400.00000000000006\" y2=\"149.99999999999997\" stroke-linecap=\"round\" style=\"stroke:white;stroke-width:4\"/><line x1=\"400.00000000000006\" y1=\"149.99999999999997\" x2=\"499.4521895368274\" y2=\"139.54715367323462\" stroke-linecap=\"round\" style=\"stroke:white;stroke-width:4\"/><line x1=\"499.4521895368274\" y1=\"139.54715367323462\" x2=\"520.2433586186033\" y2=\"237.3619137466152\" stroke-linecap=\"round\" style=\"stroke:white;stroke-width:4\"/><line x1=\"520.2433586186033\" y1=\"237.3619137466152\" x2=\"425.137706989088\" y2=\"268.26361318410994\" stroke-linecap=\"round\" style=\"stroke:white;stroke-width:4\"/><line x1=\"425.137706989088\" y1=\"268.26361318410994\" x2=\"384.464042681508\" y2=\"176.90906741984986\" stroke-linecap=\"round\" style=\"stroke:white;stroke-width:4\"/><line x1=\"384.464042681508\" y1=\"176.90906741984986\" x2=\"471.0665830599518\" y2=\"126.90906741984982\" stroke-linecap=\"round\" style=\"stroke:white;stroke-width:4\"/><line x1=\"471.0665830599518\" y1=\"126.90906741984982\" x2=\"529.8451082891992\" y2=\"207.81076685734456\" stroke-linecap=\"round\" style=\"stroke:white;stroke-width:4\"/><line x1=\"529.8451082891992\" y1=\"207.81076685734456\" x2=\"455.53062574145974\" y2=\"274.7238274932304\" stroke-linecap=\"round\" style=\"stroke:white;stroke-width:4\"/><line x1=\"455.53062574145974\" y1=\"274.7238274932304\" x2=\"381.2161431937203\" y2=\"207.81076685734456\" stroke-linecap=\"round\" style=\"stroke:white;stroke-width:4\"/><line x1=\"381.2161431937203\" y1=\"207.81076685734456\" x2=\"439.9946684229676\" y2=\"126.9090674198498\" stroke-linecap=\"round\" style=\"stroke:white;stroke-width:4\"/><line x1=\"439.9946684229676\" y1=\"126.9090674198498\" x2=\"526.5972088014115\" y2=\"176.9090674198498\" stroke-linecap=\"round\" style=\"stroke:white;stroke-width:4\"/><line x1=\"526.5972088014115\" y1=\"176.9090674198498\" x2=\"485.9235444938315\" y2=\"268.2636131841099\" stroke-linecap=\"round\" style=\"stroke:white;stroke-width:4\"/><line x1=\"485.9235444938315\" y1=\"268.2636131841099\" x2=\"390.81789286431615\" y2=\"237.36191374661516\" stroke-linecap=\"round\" style=\"stroke:white;stroke-width:4\"/><line x1=\"390.81789286431615\" y1=\"237.36191374661516\" x2=\"411.6090619460921\" y2=\"139.54715367323462\" stroke-linecap=\"round\" style=\"stroke:white;stroke-width:4\"/><line x1=\"411.6090619460921\" y1=\"139.54715367323462\" x2=\"511.06125148291943\" y2=\"149.99999999999997\" stroke-linecap=\"round\" style=\"stroke:white;stroke-width:4\"/><line x1=\"511.06125148291943\" y1=\"149.99999999999997\" x2=\"511.06125148291943\" y2=\"249.99999999999997\" stroke-linecap=\"round\" style=\"stroke:white;stroke-width:4\"/><line x1=\"511.06125148291943\" y1=\"249.99999999999997\" x2=\"411.6090619460921\" y2=\"260.4528463267653\" stroke-linecap=\"round\" style=\"stroke:white;stroke-width:4\"/><line x1=\"411.6090619460921\" y1=\"260.4528463267653\" x2=\"390.8178928643161\" y2=\"162.63808625338476\" stroke-linecap=\"round\" style=\"stroke:white;stroke-width:4\"/><line x1=\"390.8178928643161\" y1=\"162.63808625338476\" x2=\"485.92354449383146\" y2=\"131.73638681589\" stroke-linecap=\"round\" style=\"stroke:white;stroke-width:4\"/><line x1=\"485.92354449383146\" y1=\"131.73638681589\" x2=\"526.5972088014115\" y2=\"223.09093258015008\" stroke-linecap=\"round\" style=\"stroke:white;stroke-width:4\"/><line x1=\"526.5972088014115\" y1=\"223.09093258015008\" x2=\"439.9946684229676\" y2=\"273.0909325801501\" stroke-linecap=\"round\" style=\"stroke:white;stroke-width:4\"/><line x1=\"439.9946684229676\" y1=\"273.0909325801501\" x2=\"381.2161431937203\" y2=\"192.18923314265535\" stroke-linecap=\"round\" style=\"stroke:white;stroke-width:4\"/><line x1=\"381.2161431937203\" y1=\"192.18923314265535\" x2=\"455.53062574145974\" y2=\"125.27617250676954\" stroke-linecap=\"round\" style=\"stroke:white;stroke-width:4\"/><line x1=\"455.53062574145974\" y1=\"125.27617250676954\" x2=\"529.8451082891992\" y2=\"192.18923314265538\" stroke-linecap=\"round\" style=\"stroke:white;stroke-width:4\"/><line x1=\"529.8451082891992\" y1=\"192.18923314265538\" x2=\"471.0665830599519\" y2=\"273.09093258015014\" stroke-linecap=\"round\" style=\"stroke:white;stroke-width:4\"/><line x1=\"471.0665830599519\" y1=\"273.09093258015014\" x2=\"384.46404268150803\" y2=\"223.09093258015014\" stroke-linecap=\"round\" style=\"stroke:white;stroke-width:4\"/><line x1=\"384.46404268150803\" y1=\"223.09093258015014\" x2=\"425.13770698908803\" y2=\"131.73638681589003\" stroke-linecap=\"round\" style=\"stroke:white;stroke-width:4\"/><line x1=\"425.13770698908803\" y1=\"131.73638681589003\" x2=\"520.2433586186033\" y2=\"162.63808625338476\" stroke-linecap=\"round\" style=\"stroke:white;stroke-width:4\"/><line x1=\"520.2433586186033\" y1=\"162.63808625338476\" x2=\"499.4521895368274\" y2=\"260.4528463267653\" stroke-linecap=\"round\" style=\"stroke:white;stroke-width:4\"/><line x1=\"499.4521895368274\" y1=\"260.4528463267653\" x2=\"400.00000000000006\" y2=\"249.99999999999997\" stroke-linecap=\"round\" style=\"stroke:white;stroke-width:4\"/><line x1=\"400.00000000000006\" y1=\"249.99999999999997\" x2=\"400.00000000000006\" y2=\"149.99999999999997\" stroke-linecap=\"round\" style=\"stroke:white;stroke-width:4\"/><line x1=\"400.00000000000006\" y1=\"149.99999999999997\" x2=\"499.4521895368274\" y2=\"139.54715367323462\" stroke-linecap=\"round\" style=\"stroke:white;stroke-width:4\"/><line x1=\"499.4521895368274\" y1=\"139.54715367323462\" x2=\"520.2433586186033\" y2=\"237.3619137466152\" stroke-linecap=\"round\" style=\"stroke:white;stroke-width:4\"/><line x1=\"520.2433586186033\" y1=\"237.3619137466152\" x2=\"425.137706989088\" y2=\"268.26361318410994\" stroke-linecap=\"round\" style=\"stroke:white;stroke-width:4\"/><line x1=\"425.137706989088\" y1=\"268.26361318410994\" x2=\"384.464042681508\" y2=\"176.90906741984986\" stroke-linecap=\"round\" style=\"stroke:white;stroke-width:4\"/><line x1=\"384.464042681508\" y1=\"176.90906741984986\" x2=\"471.0665830599518\" y2=\"126.90906741984982\" stroke-linecap=\"round\" style=\"stroke:white;stroke-width:4\"/><line x1=\"471.0665830599518\" y1=\"126.90906741984982\" x2=\"529.8451082891992\" y2=\"207.81076685734456\" stroke-linecap=\"round\" style=\"stroke:white;stroke-width:4\"/><line x1=\"529.8451082891992\" y1=\"207.81076685734456\" x2=\"455.53062574145974\" y2=\"274.7238274932304\" stroke-linecap=\"round\" style=\"stroke:white;stroke-width:4\"/><line x1=\"455.53062574145974\" y1=\"274.7238274932304\" x2=\"381.2161431937203\" y2=\"207.81076685734456\" stroke-linecap=\"round\" style=\"stroke:white;stroke-width:4\"/><line x1=\"381.2161431937203\" y1=\"207.81076685734456\" x2=\"439.9946684229676\" y2=\"126.9090674198498\" stroke-linecap=\"round\" style=\"stroke:white;stroke-width:4\"/><line x1=\"439.9946684229676\" y1=\"126.9090674198498\" x2=\"526.5972088014115\" y2=\"176.9090674198498\" stroke-linecap=\"round\" style=\"stroke:white;stroke-width:4\"/><line x1=\"526.5972088014115\" y1=\"176.9090674198498\" x2=\"485.9235444938315\" y2=\"268.2636131841099\" stroke-linecap=\"round\" style=\"stroke:white;stroke-width:4\"/><line x1=\"485.9235444938315\" y1=\"268.2636131841099\" x2=\"390.81789286431615\" y2=\"237.36191374661516\" stroke-linecap=\"round\" style=\"stroke:white;stroke-width:4\"/><line x1=\"390.81789286431615\" y1=\"237.36191374661516\" x2=\"411.6090619460921\" y2=\"139.54715367323462\" stroke-linecap=\"round\" style=\"stroke:white;stroke-width:4\"/><line x1=\"411.6090619460921\" y1=\"139.54715367323462\" x2=\"511.06125148291943\" y2=\"149.99999999999997\" stroke-linecap=\"round\" style=\"stroke:white;stroke-width:4\"/><line x1=\"511.06125148291943\" y1=\"149.99999999999997\" x2=\"511.06125148291943\" y2=\"249.99999999999997\" stroke-linecap=\"round\" style=\"stroke:white;stroke-width:4\"/><line x1=\"511.06125148291943\" y1=\"249.99999999999997\" x2=\"411.6090619460921\" y2=\"260.4528463267653\" stroke-linecap=\"round\" style=\"stroke:white;stroke-width:4\"/><line x1=\"411.6090619460921\" y1=\"260.4528463267653\" x2=\"390.8178928643161\" y2=\"162.63808625338476\" stroke-linecap=\"round\" style=\"stroke:white;stroke-width:4\"/><line x1=\"390.8178928643161\" y1=\"162.63808625338476\" x2=\"485.92354449383146\" y2=\"131.73638681589\" stroke-linecap=\"round\" style=\"stroke:white;stroke-width:4\"/><line x1=\"485.92354449383146\" y1=\"131.73638681589\" x2=\"526.5972088014115\" y2=\"223.09093258015008\" stroke-linecap=\"round\" style=\"stroke:white;stroke-width:4\"/><line x1=\"526.5972088014115\" y1=\"223.09093258015008\" x2=\"439.9946684229676\" y2=\"273.0909325801501\" stroke-linecap=\"round\" style=\"stroke:white;stroke-width:4\"/><line x1=\"439.9946684229676\" y1=\"273.0909325801501\" x2=\"381.2161431937203\" y2=\"192.18923314265535\" stroke-linecap=\"round\" style=\"stroke:white;stroke-width:4\"/><line x1=\"381.2161431937203\" y1=\"192.18923314265535\" x2=\"455.53062574145974\" y2=\"125.27617250676954\" stroke-linecap=\"round\" style=\"stroke:white;stroke-width:4\"/>\n",
              "        \n",
              "      <g visibility=visible transform=\"rotate(-48,455.53062574145974,125.27617250676954) translate(455.53062574145974, 125.27617250676954)\">\n",
              "        <circle stroke=\"white\" stroke-width=\"3\" fill=\"transparent\" r=\"12\" cx=\"0\" cy=\"0\"/>\n",
              "        <polygon points=\"0,19 3,16 -3,16\" style=\"fill:white;stroke:white;stroke-width:2\"/>\n",
              "      </g>\n",
              "    \n",
              "      </svg>\n",
              "    "
            ],
            "text/plain": [
              "<IPython.core.display.HTML object>"
            ]
          },
          "metadata": {
            "tags": []
          }
        }
      ]
    },
    {
      "cell_type": "code",
      "metadata": {
        "colab": {
          "base_uri": "https://localhost:8080/"
        },
        "id": "tfLTAVTHE2eY",
        "outputId": "46162d2d-5f40-47f9-cbce-4ced3af80959"
      },
      "source": [
        "import random \r\n",
        "hideNum = random.randrange(0,5)\r\n",
        "trialNum = int(input(\"Enter a number of trails from 1 to 4 or 0 to generate a random number>\"))\r\n",
        "if trialNum in range(1,4):\r\n",
        "  print(\"you have {} trials\".format(trialNum))\r\n",
        "else:\r\n",
        "    trialNum=random.randrange(1,4)\r\n",
        "    print(\"you have {} trials\".format(trialNum))\r\n",
        "    guess = int(input(\"Enter your guess from 0 to 5>\"))\r\n",
        "    counter =1\r\n",
        "    while guess !=hideNum and counter<trialNum:\r\n",
        "      if guess < hideNum:\r\n",
        "        print(\"Too Low\")\r\n",
        "      else:\r\n",
        "        print(\"Too High\")\r\n",
        "        guess = int(input(\"Try again,Enter a number from 0 to 5>\"))\r\n",
        "        counter = counter +1\r\n",
        "        print(\"You Remaining Trial =\", trial - counter)\r\n",
        "        if guess == hideNum:\r\n",
        "          print(\"Great, Correct number\")\r\n",
        "        else:\r\n",
        "          print(\"Game Over,The correct number was=\", hideNum)\r\n",
        "        \r\n"
      ],
      "execution_count": 3,
      "outputs": [
        {
          "output_type": "stream",
          "text": [
            "Enter a number of trails from 1 to 4 or 0 to generate a random number>5\n",
            "you have 3 trials\n",
            "Enter your guess from 0 to 5>3\n"
          ],
          "name": "stdout"
        }
      ]
    }
  ]
}